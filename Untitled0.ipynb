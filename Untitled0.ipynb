{
 "cells": [
  {
   "cell_type": "code",
   "execution_count": 1,
   "metadata": {
    "colab": {
     "base_uri": "https://localhost:8080/"
    },
    "executionInfo": {
     "elapsed": 28577,
     "status": "ok",
     "timestamp": 1629736161785,
     "user": {
      "displayName": "dongho kim",
      "photoUrl": "",
      "userId": "05502562457769062414"
     },
     "user_tz": -540
    },
    "id": "vJHsHRRTf-x7",
    "outputId": "2aa7c19e-11b5-4fb9-d4aa-92a0340d437f"
   },
   "outputs": [
    {
     "name": "stdout",
     "output_type": "stream",
     "text": [
      "Mounted at ./MyDrive\n"
     ]
    }
   ],
   "source": [
    "#from google.colab import drive\n",
    "#drive.mount('./MyDrive')"
   ]
  },
  {
   "cell_type": "code",
   "execution_count": 2,
   "metadata": {
    "colab": {
     "base_uri": "https://localhost:8080/"
    },
    "executionInfo": {
     "elapsed": 281,
     "status": "ok",
     "timestamp": 1629736165542,
     "user": {
      "displayName": "dongho kim",
      "photoUrl": "",
      "userId": "05502562457769062414"
     },
     "user_tz": -540
    },
    "id": "hCNGBC7xgTDi",
    "outputId": "842edbaf-a6bf-4e33-8c79-31f5924d76ac"
   },
   "outputs": [
    {
     "name": "stdout",
     "output_type": "stream",
     "text": [
      "/content/MyDrive/My Drive/energy_data/2021DV\n"
     ]
    }
   ],
   "source": [
    "#cd /content/MyDrive/My Drive/energy_data/2021DV"
   ]
  },
  {
   "cell_type": "code",
   "execution_count": 1,
   "metadata": {
    "executionInfo": {
     "elapsed": 2125,
     "status": "ok",
     "timestamp": 1629736170704,
     "user": {
      "displayName": "dongho kim",
      "photoUrl": "",
      "userId": "05502562457769062414"
     },
     "user_tz": -540
    },
    "id": "UV4bk6NGmTw9"
   },
   "outputs": [],
   "source": [
    "# Ignore the warnings\n",
    "import warnings\n",
    "# warnings.filterwarnings('always')\n",
    "warnings.filterwarnings('ignore')\n",
    "\n",
    "# System related and data input controls\n",
    "import os\n",
    "\n",
    "# Data manipulation and visualization\n",
    "import pandas as pd\n",
    "pd.options.display.float_format = '{:,.2f}'.format\n",
    "pd.options.display.max_rows = 10\n",
    "pd.options.display.max_columns = 20\n",
    "import numpy as np\n",
    "import matplotlib.pyplot as plt\n",
    "import seaborn as sns\n",
    "\n",
    "# Modeling algorithms\n",
    "# General\n",
    "import statsmodels.api as sm\n",
    "from scipy import stats\n",
    "\n",
    "# Model selection\n",
    "from sklearn.model_selection import train_test_split\n",
    "\n",
    "# Evaluation metrics\n",
    "# for regression\n",
    "from sklearn.metrics import mean_squared_log_error, mean_squared_error,  r2_score, mean_absolute_error"
   ]
  },
  {
   "cell_type": "code",
   "execution_count": 2,
   "metadata": {
    "executionInfo": {
     "elapsed": 1128,
     "status": "ok",
     "timestamp": 1629736177156,
     "user": {
      "displayName": "dongho kim",
      "photoUrl": "",
      "userId": "05502562457769062414"
     },
     "user_tz": -540
    },
    "id": "GbUm4HfpniSa"
   },
   "outputs": [],
   "source": [
    "df = pd.read_excel('RRMSE_0622238149 _20210721_31840.xlsx', sheet_name='계량정보데이터')"
   ]
  },
  {
   "cell_type": "code",
   "execution_count": 3,
   "metadata": {
    "executionInfo": {
     "elapsed": 241,
     "status": "ok",
     "timestamp": 1629736181491,
     "user": {
      "displayName": "dongho kim",
      "photoUrl": "",
      "userId": "05502562457769062414"
     },
     "user_tz": -540
    },
    "id": "nCt0RzJLo0Em"
   },
   "outputs": [],
   "source": [
    "df=df.drop(['일자'],axis=1)\n",
    "df=df.drop(['Unnamed: 26'],axis=1)\n",
    "df = df.dropna()\n",
    "df=df.reset_index(drop=True,inplace=False)"
   ]
  },
  {
   "cell_type": "code",
   "execution_count": 4,
   "metadata": {
    "executionInfo": {
     "elapsed": 250,
     "status": "ok",
     "timestamp": 1629736186679,
     "user": {
      "displayName": "dongho kim",
      "photoUrl": "",
      "userId": "05502562457769062414"
     },
     "user_tz": -540
    },
    "id": "aADK58kH6ffK"
   },
   "outputs": [],
   "source": [
    "df.columns=['날짜','1:00','2:00','3:00','4:00','5:00','6:00','7:00','8:00','9:00','10:00','11:00','12:00','13:00','14:00','15:00','16:00','17:00','18:00','19:00','20:00','21:00','22:00','23:00','24:00']"
   ]
  },
  {
   "cell_type": "code",
   "execution_count": 24,
   "metadata": {
    "executionInfo": {
     "elapsed": 277,
     "status": "ok",
     "timestamp": 1629736193251,
     "user": {
      "displayName": "dongho kim",
      "photoUrl": "",
      "userId": "05502562457769062414"
     },
     "user_tz": -540
    },
    "id": "5WizF3K51qbr"
   },
   "outputs": [],
   "source": [
    "raw_all=pd.melt(df,id_vars=['날짜'])\n",
    "raw_all.columns=['날짜','시간','kwh']"
   ]
  },
  {
   "cell_type": "code",
   "execution_count": 54,
   "metadata": {},
   "outputs": [
    {
     "data": {
      "text/plain": [
       "Index(['시간', 'kwh'], dtype='object')"
      ]
     },
     "execution_count": 54,
     "metadata": {},
     "output_type": "execute_result"
    }
   ],
   "source": [
    "raw_all.columns"
   ]
  },
  {
   "cell_type": "code",
   "execution_count": 44,
   "metadata": {},
   "outputs": [
    {
     "data": {
      "text/html": [
       "<div>\n",
       "<style scoped>\n",
       "    .dataframe tbody tr th:only-of-type {\n",
       "        vertical-align: middle;\n",
       "    }\n",
       "\n",
       "    .dataframe tbody tr th {\n",
       "        vertical-align: top;\n",
       "    }\n",
       "\n",
       "    .dataframe thead th {\n",
       "        text-align: right;\n",
       "    }\n",
       "</style>\n",
       "<table border=\"1\" class=\"dataframe\">\n",
       "  <thead>\n",
       "    <tr style=\"text-align: right;\">\n",
       "      <th></th>\n",
       "      <th>count</th>\n",
       "      <th>unique</th>\n",
       "      <th>top</th>\n",
       "      <th>freq</th>\n",
       "    </tr>\n",
       "  </thead>\n",
       "  <tbody>\n",
       "    <tr>\n",
       "      <th>시간</th>\n",
       "      <td>2040</td>\n",
       "      <td>24</td>\n",
       "      <td>10:00</td>\n",
       "      <td>85</td>\n",
       "    </tr>\n",
       "    <tr>\n",
       "      <th>kwh</th>\n",
       "      <td>2,040.00</td>\n",
       "      <td>1,676.00</td>\n",
       "      <td>3,771.36</td>\n",
       "      <td>4.00</td>\n",
       "    </tr>\n",
       "  </tbody>\n",
       "</table>\n",
       "</div>"
      ],
      "text/plain": [
       "       count   unique      top freq\n",
       "시간      2040       24    10:00   85\n",
       "kwh 2,040.00 1,676.00 3,771.36 4.00"
      ]
     },
     "execution_count": 44,
     "metadata": {},
     "output_type": "execute_result"
    }
   ],
   "source": [
    "raw_all.describe().T"
   ]
  },
  {
   "cell_type": "code",
   "execution_count": 45,
   "metadata": {},
   "outputs": [
    {
     "name": "stdout",
     "output_type": "stream",
     "text": [
      "<class 'pandas.core.frame.DataFrame'>\n",
      "Index: 2040 entries, 2021-03-22(월) to 2021-07-20(화)\n",
      "Data columns (total 2 columns):\n",
      " #   Column  Non-Null Count  Dtype \n",
      "---  ------  --------------  ----- \n",
      " 0   시간      2040 non-null   object\n",
      " 1   kwh     2040 non-null   object\n",
      "dtypes: object(2)\n",
      "memory usage: 47.8+ KB\n"
     ]
    }
   ],
   "source": [
    "raw_all.info()"
   ]
  },
  {
   "cell_type": "code",
   "execution_count": 39,
   "metadata": {},
   "outputs": [
    {
     "data": {
      "text/html": [
       "<div>\n",
       "<style scoped>\n",
       "    .dataframe tbody tr th:only-of-type {\n",
       "        vertical-align: middle;\n",
       "    }\n",
       "\n",
       "    .dataframe tbody tr th {\n",
       "        vertical-align: top;\n",
       "    }\n",
       "\n",
       "    .dataframe thead th {\n",
       "        text-align: right;\n",
       "    }\n",
       "</style>\n",
       "<table border=\"1\" class=\"dataframe\">\n",
       "  <thead>\n",
       "    <tr style=\"text-align: right;\">\n",
       "      <th></th>\n",
       "      <th>count</th>\n",
       "      <th>unique</th>\n",
       "      <th>top</th>\n",
       "      <th>freq</th>\n",
       "    </tr>\n",
       "  </thead>\n",
       "  <tbody>\n",
       "    <tr>\n",
       "      <th>시간</th>\n",
       "      <td>2040</td>\n",
       "      <td>24</td>\n",
       "      <td>10:00</td>\n",
       "      <td>85</td>\n",
       "    </tr>\n",
       "    <tr>\n",
       "      <th>kwh</th>\n",
       "      <td>2,040.00</td>\n",
       "      <td>1,676.00</td>\n",
       "      <td>3,771.36</td>\n",
       "      <td>4.00</td>\n",
       "    </tr>\n",
       "  </tbody>\n",
       "</table>\n",
       "</div>"
      ],
      "text/plain": [
       "       count   unique      top freq\n",
       "시간      2040       24    10:00   85\n",
       "kwh 2,040.00 1,676.00 3,771.36 4.00"
      ]
     },
     "execution_count": 39,
     "metadata": {},
     "output_type": "execute_result"
    }
   ],
   "source": [
    "raw_all.describe(include='all').T"
   ]
  },
  {
   "cell_type": "code",
   "execution_count": 26,
   "metadata": {},
   "outputs": [
    {
     "name": "stdout",
     "output_type": "stream",
     "text": [
      "<class 'pandas.core.frame.DataFrame'>\n",
      "RangeIndex: 2040 entries, 0 to 2039\n",
      "Data columns (total 3 columns):\n",
      " #   Column  Non-Null Count  Dtype \n",
      "---  ------  --------------  ----- \n",
      " 0   날짜      2040 non-null   object\n",
      " 1   시간      2040 non-null   object\n",
      " 2   kwh     2040 non-null   object\n",
      "dtypes: object(3)\n",
      "memory usage: 47.9+ KB\n"
     ]
    }
   ],
   "source": [
    "if 'datetime' in raw_all.columns:\n",
    "    raw_all['날짜'] = pd.to_datetime(raw_all['날짜'])\n",
    "    raw_all['날짜'] = pd.to_datetime(raw_all['날짜'])\n",
    "raw_all.info()"
   ]
  },
  {
   "cell_type": "code",
   "execution_count": 27,
   "metadata": {},
   "outputs": [
    {
     "data": {
      "text/html": [
       "<div>\n",
       "<style scoped>\n",
       "    .dataframe tbody tr th:only-of-type {\n",
       "        vertical-align: middle;\n",
       "    }\n",
       "\n",
       "    .dataframe tbody tr th {\n",
       "        vertical-align: top;\n",
       "    }\n",
       "\n",
       "    .dataframe thead th {\n",
       "        text-align: right;\n",
       "    }\n",
       "</style>\n",
       "<table border=\"1\" class=\"dataframe\">\n",
       "  <thead>\n",
       "    <tr style=\"text-align: right;\">\n",
       "      <th></th>\n",
       "      <th>시간</th>\n",
       "      <th>kwh</th>\n",
       "    </tr>\n",
       "    <tr>\n",
       "      <th>날짜</th>\n",
       "      <th></th>\n",
       "      <th></th>\n",
       "    </tr>\n",
       "  </thead>\n",
       "  <tbody>\n",
       "    <tr>\n",
       "      <th>2021-03-22(월)</th>\n",
       "      <td>1:00</td>\n",
       "      <td>3,188.64</td>\n",
       "    </tr>\n",
       "    <tr>\n",
       "      <th>2021-03-23(화)</th>\n",
       "      <td>1:00</td>\n",
       "      <td>3,226.56</td>\n",
       "    </tr>\n",
       "    <tr>\n",
       "      <th>2021-03-24(수)</th>\n",
       "      <td>1:00</td>\n",
       "      <td>3,193.44</td>\n",
       "    </tr>\n",
       "    <tr>\n",
       "      <th>2021-03-25(목)</th>\n",
       "      <td>1:00</td>\n",
       "      <td>3,089.76</td>\n",
       "    </tr>\n",
       "    <tr>\n",
       "      <th>2021-03-26(금)</th>\n",
       "      <td>1:00</td>\n",
       "      <td>3,208.32</td>\n",
       "    </tr>\n",
       "    <tr>\n",
       "      <th>...</th>\n",
       "      <td>...</td>\n",
       "      <td>...</td>\n",
       "    </tr>\n",
       "    <tr>\n",
       "      <th>2021-07-14(수)</th>\n",
       "      <td>24:00</td>\n",
       "      <td>5,253.60</td>\n",
       "    </tr>\n",
       "    <tr>\n",
       "      <th>2021-07-15(목)</th>\n",
       "      <td>24:00</td>\n",
       "      <td>5,210.40</td>\n",
       "    </tr>\n",
       "    <tr>\n",
       "      <th>2021-07-16(금)</th>\n",
       "      <td>24:00</td>\n",
       "      <td>4,821.12</td>\n",
       "    </tr>\n",
       "    <tr>\n",
       "      <th>2021-07-19(월)</th>\n",
       "      <td>24:00</td>\n",
       "      <td>5,117.28</td>\n",
       "    </tr>\n",
       "    <tr>\n",
       "      <th>2021-07-20(화)</th>\n",
       "      <td>24:00</td>\n",
       "      <td>5,113.92</td>\n",
       "    </tr>\n",
       "  </tbody>\n",
       "</table>\n",
       "<p>2040 rows × 2 columns</p>\n",
       "</div>"
      ],
      "text/plain": [
       "                  시간      kwh\n",
       "날짜                           \n",
       "2021-03-22(월)   1:00 3,188.64\n",
       "2021-03-23(화)   1:00 3,226.56\n",
       "2021-03-24(수)   1:00 3,193.44\n",
       "2021-03-25(목)   1:00 3,089.76\n",
       "2021-03-26(금)   1:00 3,208.32\n",
       "...              ...      ...\n",
       "2021-07-14(수)  24:00 5,253.60\n",
       "2021-07-15(목)  24:00 5,210.40\n",
       "2021-07-16(금)  24:00 4,821.12\n",
       "2021-07-19(월)  24:00 5,117.28\n",
       "2021-07-20(화)  24:00 5,113.92\n",
       "\n",
       "[2040 rows x 2 columns]"
      ]
     },
     "execution_count": 27,
     "metadata": {},
     "output_type": "execute_result"
    }
   ],
   "source": [
    "# set index as datetime column\n",
    "if raw_all.index.dtype == 'int64':\n",
    "    raw_all.set_index('날짜', inplace=True)\n",
    "raw_all\n",
    "# bring back\n",
    "# if raw_all.index.dtype != 'int64':\n",
    "#     raw_all.reset_index(drop=False, inplace=True)\n",
    "# raw_all"
   ]
  },
  {
   "cell_type": "code",
   "execution_count": 36,
   "metadata": {},
   "outputs": [
    {
     "data": {
      "text/html": [
       "<div>\n",
       "<style scoped>\n",
       "    .dataframe tbody tr th:only-of-type {\n",
       "        vertical-align: middle;\n",
       "    }\n",
       "\n",
       "    .dataframe tbody tr th {\n",
       "        vertical-align: top;\n",
       "    }\n",
       "\n",
       "    .dataframe thead th {\n",
       "        text-align: right;\n",
       "    }\n",
       "</style>\n",
       "<table border=\"1\" class=\"dataframe\">\n",
       "  <thead>\n",
       "    <tr style=\"text-align: right;\">\n",
       "      <th></th>\n",
       "      <th>시간</th>\n",
       "      <th>kwh</th>\n",
       "    </tr>\n",
       "    <tr>\n",
       "      <th>날짜</th>\n",
       "      <th></th>\n",
       "      <th></th>\n",
       "    </tr>\n",
       "  </thead>\n",
       "  <tbody>\n",
       "    <tr>\n",
       "      <th>2021-03-22(월)</th>\n",
       "      <td>1:00</td>\n",
       "      <td>3,188.64</td>\n",
       "    </tr>\n",
       "    <tr>\n",
       "      <th>2021-03-23(화)</th>\n",
       "      <td>1:00</td>\n",
       "      <td>3,226.56</td>\n",
       "    </tr>\n",
       "    <tr>\n",
       "      <th>2021-03-24(수)</th>\n",
       "      <td>1:00</td>\n",
       "      <td>3,193.44</td>\n",
       "    </tr>\n",
       "    <tr>\n",
       "      <th>2021-03-25(목)</th>\n",
       "      <td>1:00</td>\n",
       "      <td>3,089.76</td>\n",
       "    </tr>\n",
       "    <tr>\n",
       "      <th>2021-03-26(금)</th>\n",
       "      <td>1:00</td>\n",
       "      <td>3,208.32</td>\n",
       "    </tr>\n",
       "    <tr>\n",
       "      <th>...</th>\n",
       "      <td>...</td>\n",
       "      <td>...</td>\n",
       "    </tr>\n",
       "    <tr>\n",
       "      <th>2021-07-14(수)</th>\n",
       "      <td>24:00</td>\n",
       "      <td>5,253.60</td>\n",
       "    </tr>\n",
       "    <tr>\n",
       "      <th>2021-07-15(목)</th>\n",
       "      <td>24:00</td>\n",
       "      <td>5,210.40</td>\n",
       "    </tr>\n",
       "    <tr>\n",
       "      <th>2021-07-16(금)</th>\n",
       "      <td>24:00</td>\n",
       "      <td>4,821.12</td>\n",
       "    </tr>\n",
       "    <tr>\n",
       "      <th>2021-07-19(월)</th>\n",
       "      <td>24:00</td>\n",
       "      <td>5,117.28</td>\n",
       "    </tr>\n",
       "    <tr>\n",
       "      <th>2021-07-20(화)</th>\n",
       "      <td>24:00</td>\n",
       "      <td>5,113.92</td>\n",
       "    </tr>\n",
       "  </tbody>\n",
       "</table>\n",
       "<p>2040 rows × 2 columns</p>\n",
       "</div>"
      ],
      "text/plain": [
       "                  시간      kwh\n",
       "날짜                           \n",
       "2021-03-22(월)   1:00 3,188.64\n",
       "2021-03-23(화)   1:00 3,226.56\n",
       "2021-03-24(수)   1:00 3,193.44\n",
       "2021-03-25(목)   1:00 3,089.76\n",
       "2021-03-26(금)   1:00 3,208.32\n",
       "...              ...      ...\n",
       "2021-07-14(수)  24:00 5,253.60\n",
       "2021-07-15(목)  24:00 5,210.40\n",
       "2021-07-16(금)  24:00 4,821.12\n",
       "2021-07-19(월)  24:00 5,117.28\n",
       "2021-07-20(화)  24:00 5,113.92\n",
       "\n",
       "[2040 rows x 2 columns]"
      ]
     },
     "execution_count": 36,
     "metadata": {},
     "output_type": "execute_result"
    }
   ],
   "source": [
    "raw_all"
   ]
  },
  {
   "cell_type": "code",
   "execution_count": 29,
   "metadata": {},
   "outputs": [
    {
     "data": {
      "text/html": [
       "<div>\n",
       "<style scoped>\n",
       "    .dataframe tbody tr th:only-of-type {\n",
       "        vertical-align: middle;\n",
       "    }\n",
       "\n",
       "    .dataframe tbody tr th {\n",
       "        vertical-align: top;\n",
       "    }\n",
       "\n",
       "    .dataframe thead th {\n",
       "        text-align: right;\n",
       "    }\n",
       "</style>\n",
       "<table border=\"1\" class=\"dataframe\">\n",
       "  <thead>\n",
       "    <tr style=\"text-align: right;\">\n",
       "      <th></th>\n",
       "      <th>count</th>\n",
       "      <th>unique</th>\n",
       "      <th>top</th>\n",
       "      <th>freq</th>\n",
       "    </tr>\n",
       "  </thead>\n",
       "  <tbody>\n",
       "    <tr>\n",
       "      <th>시간</th>\n",
       "      <td>2040</td>\n",
       "      <td>24</td>\n",
       "      <td>10:00</td>\n",
       "      <td>85</td>\n",
       "    </tr>\n",
       "    <tr>\n",
       "      <th>kwh</th>\n",
       "      <td>2,040.00</td>\n",
       "      <td>1,676.00</td>\n",
       "      <td>3,771.36</td>\n",
       "      <td>4.00</td>\n",
       "    </tr>\n",
       "  </tbody>\n",
       "</table>\n",
       "</div>"
      ],
      "text/plain": [
       "       count   unique      top freq\n",
       "시간      2040       24    10:00   85\n",
       "kwh 2,040.00 1,676.00 3,771.36 4.00"
      ]
     },
     "execution_count": 29,
     "metadata": {},
     "output_type": "execute_result"
    }
   ],
   "source": [
    "raw_all.describe(include='all').T"
   ]
  },
  {
   "cell_type": "code",
   "execution_count": 31,
   "metadata": {},
   "outputs": [
    {
     "data": {
      "text/html": [
       "<div>\n",
       "<style scoped>\n",
       "    .dataframe tbody tr th:only-of-type {\n",
       "        vertical-align: middle;\n",
       "    }\n",
       "\n",
       "    .dataframe tbody tr th {\n",
       "        vertical-align: top;\n",
       "    }\n",
       "\n",
       "    .dataframe thead th {\n",
       "        text-align: right;\n",
       "    }\n",
       "</style>\n",
       "<table border=\"1\" class=\"dataframe\">\n",
       "  <thead>\n",
       "    <tr style=\"text-align: right;\">\n",
       "      <th></th>\n",
       "      <th>시간</th>\n",
       "      <th>kwh</th>\n",
       "    </tr>\n",
       "    <tr>\n",
       "      <th>날짜</th>\n",
       "      <th></th>\n",
       "      <th></th>\n",
       "    </tr>\n",
       "  </thead>\n",
       "  <tbody>\n",
       "    <tr>\n",
       "      <th>2021-03-22(월)</th>\n",
       "      <td>1:00</td>\n",
       "      <td>3,188.64</td>\n",
       "    </tr>\n",
       "    <tr>\n",
       "      <th>2021-03-23(화)</th>\n",
       "      <td>1:00</td>\n",
       "      <td>3,226.56</td>\n",
       "    </tr>\n",
       "    <tr>\n",
       "      <th>2021-03-24(수)</th>\n",
       "      <td>1:00</td>\n",
       "      <td>3,193.44</td>\n",
       "    </tr>\n",
       "    <tr>\n",
       "      <th>2021-03-25(목)</th>\n",
       "      <td>1:00</td>\n",
       "      <td>3,089.76</td>\n",
       "    </tr>\n",
       "    <tr>\n",
       "      <th>2021-03-26(금)</th>\n",
       "      <td>1:00</td>\n",
       "      <td>3,208.32</td>\n",
       "    </tr>\n",
       "    <tr>\n",
       "      <th>...</th>\n",
       "      <td>...</td>\n",
       "      <td>...</td>\n",
       "    </tr>\n",
       "    <tr>\n",
       "      <th>2021-07-14(수)</th>\n",
       "      <td>24:00</td>\n",
       "      <td>5,253.60</td>\n",
       "    </tr>\n",
       "    <tr>\n",
       "      <th>2021-07-15(목)</th>\n",
       "      <td>24:00</td>\n",
       "      <td>5,210.40</td>\n",
       "    </tr>\n",
       "    <tr>\n",
       "      <th>2021-07-16(금)</th>\n",
       "      <td>24:00</td>\n",
       "      <td>4,821.12</td>\n",
       "    </tr>\n",
       "    <tr>\n",
       "      <th>2021-07-19(월)</th>\n",
       "      <td>24:00</td>\n",
       "      <td>5,117.28</td>\n",
       "    </tr>\n",
       "    <tr>\n",
       "      <th>2021-07-20(화)</th>\n",
       "      <td>24:00</td>\n",
       "      <td>5,113.92</td>\n",
       "    </tr>\n",
       "  </tbody>\n",
       "</table>\n",
       "<p>2040 rows × 2 columns</p>\n",
       "</div>"
      ],
      "text/plain": [
       "                  시간      kwh\n",
       "날짜                           \n",
       "2021-03-22(월)   1:00 3,188.64\n",
       "2021-03-23(화)   1:00 3,226.56\n",
       "2021-03-24(수)   1:00 3,193.44\n",
       "2021-03-25(목)   1:00 3,089.76\n",
       "2021-03-26(금)   1:00 3,208.32\n",
       "...              ...      ...\n",
       "2021-07-14(수)  24:00 5,253.60\n",
       "2021-07-15(목)  24:00 5,210.40\n",
       "2021-07-16(금)  24:00 4,821.12\n",
       "2021-07-19(월)  24:00 5,117.28\n",
       "2021-07-20(화)  24:00 5,113.92\n",
       "\n",
       "[2040 rows x 2 columns]"
      ]
     },
     "execution_count": 31,
     "metadata": {},
     "output_type": "execute_result"
    }
   ],
   "source": [
    "# set index as datetime column\n",
    "if raw_all.index.dtype == 'int64':\n",
    "    raw_all.set_index('DateTime', inplace=True)\n",
    "raw_all"
   ]
  },
  {
   "cell_type": "code",
   "execution_count": 23,
   "metadata": {},
   "outputs": [
    {
     "ename": "ValueError",
     "evalue": "Invalid frequency: kwh",
     "output_type": "error",
     "traceback": [
      "\u001b[0;31m---------------------------------------------------------------------------\u001b[0m",
      "\u001b[0;31mKeyError\u001b[0m                                  Traceback (most recent call last)",
      "\u001b[0;32mpandas/_libs/tslibs/offsets.pyx\u001b[0m in \u001b[0;36mpandas._libs.tslibs.offsets._get_offset\u001b[0;34m()\u001b[0m\n",
      "\u001b[0;31mKeyError\u001b[0m: 'KWH'",
      "\nThe above exception was the direct cause of the following exception:\n",
      "\u001b[0;31mValueError\u001b[0m                                Traceback (most recent call last)",
      "\u001b[0;32mpandas/_libs/tslibs/offsets.pyx\u001b[0m in \u001b[0;36mpandas._libs.tslibs.offsets.to_offset\u001b[0;34m()\u001b[0m\n",
      "\u001b[0;32mpandas/_libs/tslibs/offsets.pyx\u001b[0m in \u001b[0;36mpandas._libs.tslibs.offsets._get_offset\u001b[0;34m()\u001b[0m\n",
      "\u001b[0;31mValueError\u001b[0m: Invalid frequency: KWH",
      "\nThe above exception was the direct cause of the following exception:\n",
      "\u001b[0;31mValueError\u001b[0m                                Traceback (most recent call last)",
      "\u001b[0;32m<ipython-input-23-da2cb37df060>\u001b[0m in \u001b[0;36m<module>\u001b[0;34m\u001b[0m\n\u001b[0;32m----> 1\u001b[0;31m \u001b[0mraw_all\u001b[0m\u001b[0;34m.\u001b[0m\u001b[0masfreq\u001b[0m\u001b[0;34m(\u001b[0m\u001b[0;34m'kwh'\u001b[0m\u001b[0;34m)\u001b[0m\u001b[0;34m[\u001b[0m\u001b[0mraw_all\u001b[0m\u001b[0;34m.\u001b[0m\u001b[0masfreq\u001b[0m\u001b[0;34m(\u001b[0m\u001b[0;34m'kwh'\u001b[0m\u001b[0;34m)\u001b[0m\u001b[0;34m.\u001b[0m\u001b[0misnull\u001b[0m\u001b[0;34m(\u001b[0m\u001b[0;34m)\u001b[0m\u001b[0;34m.\u001b[0m\u001b[0msum\u001b[0m\u001b[0;34m(\u001b[0m\u001b[0maxis\u001b[0m\u001b[0;34m=\u001b[0m\u001b[0;36m1\u001b[0m\u001b[0;34m)\u001b[0m \u001b[0;34m>\u001b[0m \u001b[0;36m0\u001b[0m\u001b[0;34m]\u001b[0m\u001b[0;34m\u001b[0m\u001b[0;34m\u001b[0m\u001b[0m\n\u001b[0m",
      "\u001b[0;32m~/opt/anaconda3/lib/python3.8/site-packages/pandas/core/generic.py\u001b[0m in \u001b[0;36masfreq\u001b[0;34m(self, freq, method, how, normalize, fill_value)\u001b[0m\n\u001b[1;32m   7828\u001b[0m         \u001b[0;32mfrom\u001b[0m \u001b[0mpandas\u001b[0m\u001b[0;34m.\u001b[0m\u001b[0mcore\u001b[0m\u001b[0;34m.\u001b[0m\u001b[0mresample\u001b[0m \u001b[0;32mimport\u001b[0m \u001b[0masfreq\u001b[0m\u001b[0;34m\u001b[0m\u001b[0;34m\u001b[0m\u001b[0m\n\u001b[1;32m   7829\u001b[0m \u001b[0;34m\u001b[0m\u001b[0m\n\u001b[0;32m-> 7830\u001b[0;31m         return asfreq(\n\u001b[0m\u001b[1;32m   7831\u001b[0m             \u001b[0mself\u001b[0m\u001b[0;34m,\u001b[0m\u001b[0;34m\u001b[0m\u001b[0;34m\u001b[0m\u001b[0m\n\u001b[1;32m   7832\u001b[0m             \u001b[0mfreq\u001b[0m\u001b[0;34m,\u001b[0m\u001b[0;34m\u001b[0m\u001b[0;34m\u001b[0m\u001b[0m\n",
      "\u001b[0;32m~/opt/anaconda3/lib/python3.8/site-packages/pandas/core/resample.py\u001b[0m in \u001b[0;36masfreq\u001b[0;34m(obj, freq, method, how, normalize, fill_value)\u001b[0m\n\u001b[1;32m   1915\u001b[0m         \u001b[0mnew_obj\u001b[0m\u001b[0;34m.\u001b[0m\u001b[0mindex\u001b[0m \u001b[0;34m=\u001b[0m \u001b[0m_asfreq_compat\u001b[0m\u001b[0;34m(\u001b[0m\u001b[0mobj\u001b[0m\u001b[0;34m.\u001b[0m\u001b[0mindex\u001b[0m\u001b[0;34m,\u001b[0m \u001b[0mfreq\u001b[0m\u001b[0;34m)\u001b[0m\u001b[0;34m\u001b[0m\u001b[0;34m\u001b[0m\u001b[0m\n\u001b[1;32m   1916\u001b[0m     \u001b[0;32melse\u001b[0m\u001b[0;34m:\u001b[0m\u001b[0;34m\u001b[0m\u001b[0;34m\u001b[0m\u001b[0m\n\u001b[0;32m-> 1917\u001b[0;31m         \u001b[0mdti\u001b[0m \u001b[0;34m=\u001b[0m \u001b[0mdate_range\u001b[0m\u001b[0;34m(\u001b[0m\u001b[0mobj\u001b[0m\u001b[0;34m.\u001b[0m\u001b[0mindex\u001b[0m\u001b[0;34m[\u001b[0m\u001b[0;36m0\u001b[0m\u001b[0;34m]\u001b[0m\u001b[0;34m,\u001b[0m \u001b[0mobj\u001b[0m\u001b[0;34m.\u001b[0m\u001b[0mindex\u001b[0m\u001b[0;34m[\u001b[0m\u001b[0;34m-\u001b[0m\u001b[0;36m1\u001b[0m\u001b[0;34m]\u001b[0m\u001b[0;34m,\u001b[0m \u001b[0mfreq\u001b[0m\u001b[0;34m=\u001b[0m\u001b[0mfreq\u001b[0m\u001b[0;34m)\u001b[0m\u001b[0;34m\u001b[0m\u001b[0;34m\u001b[0m\u001b[0m\n\u001b[0m\u001b[1;32m   1918\u001b[0m         \u001b[0mdti\u001b[0m\u001b[0;34m.\u001b[0m\u001b[0mname\u001b[0m \u001b[0;34m=\u001b[0m \u001b[0mobj\u001b[0m\u001b[0;34m.\u001b[0m\u001b[0mindex\u001b[0m\u001b[0;34m.\u001b[0m\u001b[0mname\u001b[0m\u001b[0;34m\u001b[0m\u001b[0;34m\u001b[0m\u001b[0m\n\u001b[1;32m   1919\u001b[0m         \u001b[0mnew_obj\u001b[0m \u001b[0;34m=\u001b[0m \u001b[0mobj\u001b[0m\u001b[0;34m.\u001b[0m\u001b[0mreindex\u001b[0m\u001b[0;34m(\u001b[0m\u001b[0mdti\u001b[0m\u001b[0;34m,\u001b[0m \u001b[0mmethod\u001b[0m\u001b[0;34m=\u001b[0m\u001b[0mmethod\u001b[0m\u001b[0;34m,\u001b[0m \u001b[0mfill_value\u001b[0m\u001b[0;34m=\u001b[0m\u001b[0mfill_value\u001b[0m\u001b[0;34m)\u001b[0m\u001b[0;34m\u001b[0m\u001b[0;34m\u001b[0m\u001b[0m\n",
      "\u001b[0;32m~/opt/anaconda3/lib/python3.8/site-packages/pandas/core/indexes/datetimes.py\u001b[0m in \u001b[0;36mdate_range\u001b[0;34m(start, end, periods, freq, tz, normalize, name, closed, **kwargs)\u001b[0m\n\u001b[1;32m   1067\u001b[0m         \u001b[0mfreq\u001b[0m \u001b[0;34m=\u001b[0m \u001b[0;34m\"D\"\u001b[0m\u001b[0;34m\u001b[0m\u001b[0;34m\u001b[0m\u001b[0m\n\u001b[1;32m   1068\u001b[0m \u001b[0;34m\u001b[0m\u001b[0m\n\u001b[0;32m-> 1069\u001b[0;31m     dtarr = DatetimeArray._generate_range(\n\u001b[0m\u001b[1;32m   1070\u001b[0m         \u001b[0mstart\u001b[0m\u001b[0;34m=\u001b[0m\u001b[0mstart\u001b[0m\u001b[0;34m,\u001b[0m\u001b[0;34m\u001b[0m\u001b[0;34m\u001b[0m\u001b[0m\n\u001b[1;32m   1071\u001b[0m         \u001b[0mend\u001b[0m\u001b[0;34m=\u001b[0m\u001b[0mend\u001b[0m\u001b[0;34m,\u001b[0m\u001b[0;34m\u001b[0m\u001b[0;34m\u001b[0m\u001b[0m\n",
      "\u001b[0;32m~/opt/anaconda3/lib/python3.8/site-packages/pandas/core/arrays/datetimes.py\u001b[0m in \u001b[0;36m_generate_range\u001b[0;34m(cls, start, end, periods, freq, tz, normalize, ambiguous, nonexistent, closed)\u001b[0m\n\u001b[1;32m    375\u001b[0m                 \u001b[0;34m\"and freq, exactly three must be specified\"\u001b[0m\u001b[0;34m\u001b[0m\u001b[0;34m\u001b[0m\u001b[0m\n\u001b[1;32m    376\u001b[0m             )\n\u001b[0;32m--> 377\u001b[0;31m         \u001b[0mfreq\u001b[0m \u001b[0;34m=\u001b[0m \u001b[0mto_offset\u001b[0m\u001b[0;34m(\u001b[0m\u001b[0mfreq\u001b[0m\u001b[0;34m)\u001b[0m\u001b[0;34m\u001b[0m\u001b[0;34m\u001b[0m\u001b[0m\n\u001b[0m\u001b[1;32m    378\u001b[0m \u001b[0;34m\u001b[0m\u001b[0m\n\u001b[1;32m    379\u001b[0m         \u001b[0;32mif\u001b[0m \u001b[0mstart\u001b[0m \u001b[0;32mis\u001b[0m \u001b[0;32mnot\u001b[0m \u001b[0;32mNone\u001b[0m\u001b[0;34m:\u001b[0m\u001b[0;34m\u001b[0m\u001b[0;34m\u001b[0m\u001b[0m\n",
      "\u001b[0;32mpandas/_libs/tslibs/offsets.pyx\u001b[0m in \u001b[0;36mpandas._libs.tslibs.offsets.to_offset\u001b[0;34m()\u001b[0m\n",
      "\u001b[0;32mpandas/_libs/tslibs/offsets.pyx\u001b[0m in \u001b[0;36mpandas._libs.tslibs.offsets.to_offset\u001b[0;34m()\u001b[0m\n",
      "\u001b[0;31mValueError\u001b[0m: Invalid frequency: kwh"
     ]
    }
   ],
   "source": [
    "raw_all.asfreq('kwh')[raw_all.asfreq('kwh').isnull().sum(axis=1) > 0]"
   ]
  },
  {
   "cell_type": "code",
   "execution_count": null,
   "metadata": {
    "id": "M3Fy7iD-wPl-"
   },
   "outputs": [],
   "source": [
    "## 우리 동네 기상 예보"
   ]
  },
  {
   "cell_type": "code",
   "execution_count": 6,
   "metadata": {
    "executionInfo": {
     "elapsed": 244,
     "status": "ok",
     "timestamp": 1629736199007,
     "user": {
      "displayName": "dongho kim",
      "photoUrl": "",
      "userId": "05502562457769062414"
     },
     "user_tz": -540
    },
    "id": "wuBGgWX38t21"
   },
   "outputs": [],
   "source": [
    "import urllib\n",
    "import urllib.request\n",
    "import json"
   ]
  },
  {
   "cell_type": "code",
   "execution_count": 10,
   "metadata": {
    "executionInfo": {
     "elapsed": 888,
     "status": "ok",
     "timestamp": 1629736205784,
     "user": {
      "displayName": "dongho kim",
      "photoUrl": "",
      "userId": "05502562457769062414"
     },
     "user_tz": -540
    },
    "id": "TEzU9xUD8ySr"
   },
   "outputs": [
    {
     "ename": "FileNotFoundError",
     "evalue": "[Errno 2] No such file or directory: 'ServiceKey'",
     "output_type": "error",
     "traceback": [
      "\u001b[0;31m---------------------------------------------------------------------------\u001b[0m",
      "\u001b[0;31mFileNotFoundError\u001b[0m                         Traceback (most recent call last)",
      "\u001b[0;32m<ipython-input-10-3e2bcb0385ab>\u001b[0m in \u001b[0;36m<module>\u001b[0;34m\u001b[0m\n\u001b[0;32m----> 1\u001b[0;31m \u001b[0mServiceKey\u001b[0m \u001b[0;34m=\u001b[0m \u001b[0mopen\u001b[0m\u001b[0;34m(\u001b[0m\u001b[0;34m'ServiceKey'\u001b[0m\u001b[0;34m,\u001b[0m \u001b[0;34m'r'\u001b[0m\u001b[0;34m)\u001b[0m\u001b[0;34m.\u001b[0m\u001b[0mread\u001b[0m\u001b[0;34m(\u001b[0m\u001b[0;34m)\u001b[0m\u001b[0;34m\u001b[0m\u001b[0;34m\u001b[0m\u001b[0m\n\u001b[0m",
      "\u001b[0;31mFileNotFoundError\u001b[0m: [Errno 2] No such file or directory: 'ServiceKey'"
     ]
    }
   ],
   "source": [
    "ServiceKey = open('ServiceKey', 'r').read()"
   ]
  },
  {
   "cell_type": "code",
   "execution_count": 12,
   "metadata": {
    "colab": {
     "base_uri": "https://localhost:8080/",
     "height": 324
    },
    "executionInfo": {
     "elapsed": 2599,
     "status": "error",
     "timestamp": 1629736219514,
     "user": {
      "displayName": "dongho kim",
      "photoUrl": "",
      "userId": "05502562457769062414"
     },
     "user_tz": -540
    },
    "id": "OzUU11VQ82UT",
    "outputId": "30ce251f-3f60-423c-9038-287d6415dc75"
   },
   "outputs": [
    {
     "ename": "NameError",
     "evalue": "name 'ServiceKey' is not defined",
     "output_type": "error",
     "traceback": [
      "\u001b[0;31m---------------------------------------------------------------------------\u001b[0m",
      "\u001b[0;31mNameError\u001b[0m                                 Traceback (most recent call last)",
      "\u001b[0;32m<ipython-input-12-455dbba495ff>\u001b[0m in \u001b[0;36m<module>\u001b[0;34m\u001b[0m\n\u001b[1;32m      3\u001b[0m queryParams = '?' + urllib.parse.urlencode(\n\u001b[1;32m      4\u001b[0m     {\n\u001b[0;32m----> 5\u001b[0;31m         \u001b[0murllib\u001b[0m\u001b[0;34m.\u001b[0m\u001b[0mparse\u001b[0m\u001b[0;34m.\u001b[0m\u001b[0mquote_plus\u001b[0m\u001b[0;34m(\u001b[0m\u001b[0;34m'ServiceKey'\u001b[0m\u001b[0;34m)\u001b[0m \u001b[0;34m:\u001b[0m \u001b[0mServiceKey\u001b[0m\u001b[0;34m,\u001b[0m \u001b[0;31m# key를 바로 입력해도 됩니다.\u001b[0m\u001b[0;34m\u001b[0m\u001b[0;34m\u001b[0m\u001b[0m\n\u001b[0m\u001b[1;32m      6\u001b[0m         \u001b[0murllib\u001b[0m\u001b[0;34m.\u001b[0m\u001b[0mparse\u001b[0m\u001b[0;34m.\u001b[0m\u001b[0mquote_plus\u001b[0m\u001b[0;34m(\u001b[0m\u001b[0;34m'numOfRows'\u001b[0m\u001b[0;34m)\u001b[0m \u001b[0;34m:\u001b[0m \u001b[0;34m'113'\u001b[0m\u001b[0;34m,\u001b[0m \u001b[0;31m# 총 14개의 항목을 3시간 단위로 순차적으로 불러옵니다. 다음날 24시간예보에 필요한 만큼만 가져왔습니다.\u001b[0m\u001b[0;34m\u001b[0m\u001b[0;34m\u001b[0m\u001b[0m\n\u001b[1;32m      7\u001b[0m         \u001b[0murllib\u001b[0m\u001b[0;34m.\u001b[0m\u001b[0mparse\u001b[0m\u001b[0;34m.\u001b[0m\u001b[0mquote_plus\u001b[0m\u001b[0;34m(\u001b[0m\u001b[0;34m'dataType'\u001b[0m\u001b[0;34m)\u001b[0m \u001b[0;34m:\u001b[0m \u001b[0;34m'JSON'\u001b[0m\u001b[0;34m,\u001b[0m \u001b[0;31m# JSON, XML 두가지 포멧을 제공합니다.\u001b[0m\u001b[0;34m\u001b[0m\u001b[0;34m\u001b[0m\u001b[0m\n",
      "\u001b[0;31mNameError\u001b[0m: name 'ServiceKey' is not defined"
     ]
    }
   ],
   "source": [
    "url = 'http://apis.data.go.kr/1360000/VilageFcstInfoService/getVilageFcst'\n",
    "\n",
    "queryParams = '?' + urllib.parse.urlencode(\n",
    "    {\n",
    "        urllib.parse.quote_plus('ServiceKey') : ServiceKey, # key를 바로 입력해도 됩니다.\n",
    "        urllib.parse.quote_plus('numOfRows') : '113', # 총 14개의 항목을 3시간 단위로 순차적으로 불러옵니다. 다음날 24시간예보에 필요한 만큼만 가져왔습니다.\n",
    "        urllib.parse.quote_plus('dataType') : 'JSON', # JSON, XML 두가지 포멧을 제공합니다.\n",
    "        urllib.parse.quote_plus('base_date') : '20210420', # 예보 받을 날짜를 입력합니다. 최근 1일간의 자료만 제공합니다.\n",
    "        urllib.parse.quote_plus('base_time') : '1400', # 예보 시간을 입력합니다. 2시부터 시작하여 3시간 단위로 입력 가능합니다.\n",
    "        urllib.parse.quote_plus('nx') : '102', # 울산 태양광 발전소 x 좌표입니다. '기상청18_동네예보 조회서비스_오픈API활용가이드.zip'에 포함 된 excel파일을 통해 확인 가능합니다.\n",
    "        urllib.parse.quote_plus('ny') : '83' # 울산 태양광 발전소 y 좌표입니다. '기상청18_동네예보 조회서비스_오픈API활용가이드.zip'에 포함 된 excel파일을 통해 확인 가능합니다.\n",
    "    }\n",
    ")\n",
    "\n",
    "response = urllib.request.urlopen(url + queryParams).read()\n",
    "response = json.loads(response)"
   ]
  },
  {
   "cell_type": "code",
   "execution_count": null,
   "metadata": {
    "id": "8FIFBKUo86GU"
   },
   "outputs": [],
   "source": [
    "fcst_df = pd.DataFrame()\n",
    "date = '2021-04-21'\n",
    "fcst_df['Forecast_time'] = [f'{date} {hour}:00' for hour in range(24)]\n",
    "row_idx = 0\n",
    "\n",
    "for i, data in enumerate(response['response']['body']['items']['item']):\n",
    "    if i > 19:\n",
    "        if data['category']=='REH':\n",
    "            fcst_df.loc[row_idx, 'Humidity'] = float(data['fcstValue'])\n",
    "            print('category:Humidity,',data['category'], 'baseTime:',data['baseTime'], ', fcstTime:', data['fcstTime'], ', fcstValue:', data['fcstValue'])\n",
    "        elif data['category']=='T3H':\n",
    "            fcst_df.loc[row_idx, 'Temperature'] = float(data['fcstValue'])\n",
    "            print('category:Temperature,',data['category'], 'baseTime:',data['baseTime'], ', fcstTime:', data['fcstTime'], ', fcstValue:', data['fcstValue'])\n",
    "        elif data['category']=='SKY':\n",
    "            fcst_df.loc[row_idx, 'Cloud'] = float(data['fcstValue'])\n",
    "            print('category:Cloud,',data['category'], 'baseTime:',data['baseTime'], ', fcstTime:', data['fcstTime'], ', fcstValue:', data['fcstValue'])\n",
    "        elif data['category']=='VEC':\n",
    "            fcst_df.loc[row_idx, 'WindDirection'] = float(data['fcstValue'])\n",
    "            print('category:WindDirection,',data['category'], 'baseTime:',data['baseTime'], ', fcstTime:', data['fcstTime'], ', fcstValue:', data['fcstValue'])\n",
    "        elif data['category']=='WSD':\n",
    "            fcst_df.loc[row_idx, 'WindSpeed'] = float(data['fcstValue'])\n",
    "            print('category:WindSpeed,',data['category'], 'baseTime:',data['baseTime'], ', fcstTime:', data['fcstTime'], ', fcstValue:', data['fcstValue'], '\\n')\n",
    "            row_idx+=3"
   ]
  },
  {
   "cell_type": "code",
   "execution_count": null,
   "metadata": {
    "id": "-OLgt-tx8-mK"
   },
   "outputs": [],
   "source": [
    "fcst_df = fcst_df.interpolate()\n",
    "fcst_df = fcst_df.iloc[:24]"
   ]
  },
  {
   "cell_type": "code",
   "execution_count": null,
   "metadata": {
    "id": "jvJIKjMZ9BDb"
   },
   "outputs": [],
   "source": []
  }
 ],
 "metadata": {
  "colab": {
   "authorship_tag": "ABX9TyMjgr7oM5VOVKaogT2edtz9",
   "name": "Untitled0.ipynb",
   "provenance": []
  },
  "kernelspec": {
   "display_name": "Python 3",
   "language": "python",
   "name": "python3"
  },
  "language_info": {
   "codemirror_mode": {
    "name": "ipython",
    "version": 3
   },
   "file_extension": ".py",
   "mimetype": "text/x-python",
   "name": "python",
   "nbconvert_exporter": "python",
   "pygments_lexer": "ipython3",
   "version": "3.8.8"
  }
 },
 "nbformat": 4,
 "nbformat_minor": 1
}
