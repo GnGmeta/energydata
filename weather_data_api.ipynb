{
 "cells": [
  {
   "cell_type": "code",
   "execution_count": 1,
   "id": "d39a1c69",
   "metadata": {},
   "outputs": [],
   "source": [
    "import json \n",
    "from datetime import datetime \n",
    "from urllib.request import urlopen"
   ]
  },
  {
   "cell_type": "code",
   "execution_count": 2,
   "id": "7cd67e7e",
   "metadata": {},
   "outputs": [],
   "source": [
    "def get_sky_info(data): \n",
    "    try: \n",
    "        weather_info = data['response']['body']['items']['item'] \n",
    "        if weather_info[3]['category'] == 'SKY': \n",
    "            return weather_info[3]['fcstValue'] \n",
    "        elif weather_info[5]['category'] == 'SKY': \n",
    "            return weather_info[5]['fcstValue'] \n",
    "    except KeyError: \n",
    "            print('API 호출 실패!')"
   ]
  },
  {
   "cell_type": "code",
   "execution_count": 3,
   "id": "6af7359b",
   "metadata": {},
   "outputs": [],
   "source": [
    "def get_base_time(hour): \n",
    "    hour = int(hour) \n",
    "    if hour < 3: \n",
    "        temp_hour = '20' \n",
    "    elif hour < 6: \n",
    "        temp_hour = '23' \n",
    "    elif hour < 9: \n",
    "        temp_hour = '02' \n",
    "    elif hour < 12: \n",
    "        temp_hour = '05' \n",
    "    elif hour < 15: \n",
    "        temp_hour = '08' \n",
    "    elif hour < 18: \n",
    "        temp_hour = '11' \n",
    "    elif hour < 21: \n",
    "        temp_hour = '14' \n",
    "    elif hour < 24: \n",
    "        temp_hour = '17' \n",
    "        \n",
    "    return temp_hour + '00'\n"
   ]
  },
  {
   "cell_type": "code",
   "execution_count": 4,
   "id": "fb2283dd",
   "metadata": {},
   "outputs": [
    {
     "ename": "SyntaxError",
     "evalue": "unmatched ')' (1196398578.py, line 21)",
     "output_type": "error",
     "traceback": [
      "\u001b[0;36m  Input \u001b[0;32mIn [4]\u001b[0;36m\u001b[0m\n\u001b[0;31m    service_key, base_date, base_time, nx, ny, num_of_rows, _type)\u001b[0m\n\u001b[0m                                                                 ^\u001b[0m\n\u001b[0;31mSyntaxError\u001b[0m\u001b[0;31m:\u001b[0m unmatched ')'\n"
     ]
    }
   ],
   "source": [
    "def get_weather(): \n",
    "    service_key = 'xM0E%2BY9pYfVPh7W2rCzqvDgzBtmQZcawC3y%2FONSyZTWUU6Jw2ttLGbUlq9Sccb6DCZ3g3Ej57Sv0LsQHo8Q1%2Fw%3D%3D' \n",
    "    now = datetime.now() \n",
    "    now_date = now.strftime('%Y%m%d') \n",
    "    now_hour = int(now.strftime('%H')) \n",
    "    \n",
    "    if now_hour < 6: \n",
    "        base_date = str(int(now_date) - 1) \n",
    "        \n",
    "    else: \n",
    "        base_date = now_date \n",
    "    base_hour = get_base_time(now_hour) \n",
    "        \n",
    "    num_of_rows = '6' \n",
    "    base_date = base_date \n",
    "    base_time = base_hour \n",
    "    nx = str(60) \n",
    "    ny = str(125) \n",
    "    _type = 'json' \n",
    "    api_url = 'http://apis.data.go.kr/1360000/VilageFcstInfoService/getVilageFcst'\n",
    "    service_key, base_date, base_time, nx, ny, num_of_rows, _type) \n",
    "    data = urlopen(api_url).read().decode('utf8') \n",
    "    json_data = json.loads(data) \n",
    "    sky = get_sky_info(json_data) \n",
    "    return sky\n",
    "\n"
   ]
  },
  {
   "cell_type": "code",
   "execution_count": null,
   "id": "7c0c9daa",
   "metadata": {},
   "outputs": [],
   "source": []
  }
 ],
 "metadata": {
  "kernelspec": {
   "display_name": "Python 3 (ipykernel)",
   "language": "python",
   "name": "python3"
  },
  "language_info": {
   "codemirror_mode": {
    "name": "ipython",
    "version": 3
   },
   "file_extension": ".py",
   "mimetype": "text/x-python",
   "name": "python",
   "nbconvert_exporter": "python",
   "pygments_lexer": "ipython3",
   "version": "3.9.12"
  }
 },
 "nbformat": 4,
 "nbformat_minor": 5
}
