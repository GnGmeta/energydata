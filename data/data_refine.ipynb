{
 "cells": [
  {
   "cell_type": "code",
   "execution_count": 1,
   "id": "a26f0163",
   "metadata": {
    "ExecuteTime": {
     "end_time": "2021-11-05T00:35:30.060292Z",
     "start_time": "2021-11-05T00:35:29.750971Z"
    }
   },
   "outputs": [],
   "source": [
    "import numpy as np\n",
    "import pandas as pd\n",
    "import requests, bs4\n",
    "import os\n",
    "import base64\n",
    "import io\n",
    "from datetime import datetime\n",
    "from furl import furl"
   ]
  },
  {
   "cell_type": "code",
   "execution_count": 2,
   "id": "1d297b49",
   "metadata": {
    "ExecuteTime": {
     "end_time": "2021-11-05T00:35:31.172898Z",
     "start_time": "2021-11-05T00:35:31.168322Z"
    },
    "code_folding": []
   },
   "outputs": [],
   "source": [
    "def get_api(url):\n",
    "    request = requests.get(url=url).text.encode('utf-8')\n",
    "    xmlobj = bs4.BeautifulSoup(request, 'html.parser')\n",
    "    rows = xmlobj.findAll('item')\n",
    "    for i, row in enumerate(rows):\n",
    "        climate.loc[len(climate)] = [\n",
    "          row.tm.string.split(\" \")[0],\n",
    "          row.tm.string.split(\" \")[1],\n",
    "          row.ta.string,\n",
    "          row.ws.string,\n",
    "          row.wd.string,\n",
    "          row.hm.string,\n",
    "          row.pv.string,\n",
    "          row.td.string,\n",
    "          row.pa.string,\n",
    "          row.ps.string,\n",
    "          row.vs.string,\n",
    "          row.ts.string ]\n",
    "    return rows\n"
   ]
  },
  {
   "cell_type": "code",
   "execution_count": 3,
   "id": "b1df0721",
   "metadata": {
    "ExecuteTime": {
     "end_time": "2021-11-05T00:35:32.518137Z",
     "start_time": "2021-11-05T00:35:32.383430Z"
    },
    "code_folding": []
   },
   "outputs": [
    {
     "name": "stdout",
     "output_type": "stream",
     "text": [
      "RRMSE_제안용_㈜ 젬텍_0923994065_2021.11.04_32638.xlsx\n"
     ]
    },
    {
     "ename": "ValueError",
     "evalue": "File is not a recognized excel file",
     "output_type": "error",
     "traceback": [
      "\u001b[0;31m---------------------------------------------------------------------------\u001b[0m",
      "\u001b[0;31mValueError\u001b[0m                                Traceback (most recent call last)",
      "\u001b[0;32m<ipython-input-3-14dd0d41aa50>\u001b[0m in \u001b[0;36m<module>\u001b[0;34m\u001b[0m\n\u001b[1;32m      4\u001b[0m             \u001b[0mfilename\u001b[0m \u001b[0;34m=\u001b[0m \u001b[0mfile\u001b[0m\u001b[0;34m\u001b[0m\u001b[0;34m\u001b[0m\u001b[0m\n\u001b[1;32m      5\u001b[0m             \u001b[0mprint\u001b[0m\u001b[0;34m(\u001b[0m\u001b[0mfilename\u001b[0m\u001b[0;34m)\u001b[0m\u001b[0;34m\u001b[0m\u001b[0;34m\u001b[0m\u001b[0m\n\u001b[0;32m----> 6\u001b[0;31m             \u001b[0mdf\u001b[0m \u001b[0;34m=\u001b[0m \u001b[0mpd\u001b[0m\u001b[0;34m.\u001b[0m\u001b[0mread_excel\u001b[0m\u001b[0;34m(\u001b[0m\u001b[0mfilename\u001b[0m\u001b[0;34m,\u001b[0m\u001b[0msheet_name\u001b[0m\u001b[0;34m=\u001b[0m\u001b[0;34m'계량정보데이터'\u001b[0m\u001b[0;34m)\u001b[0m\u001b[0;34m\u001b[0m\u001b[0;34m\u001b[0m\u001b[0m\n\u001b[0m\u001b[1;32m      7\u001b[0m             \u001b[0mdf\u001b[0m\u001b[0;34m=\u001b[0m\u001b[0mdf\u001b[0m\u001b[0;34m.\u001b[0m\u001b[0mdrop\u001b[0m\u001b[0;34m(\u001b[0m\u001b[0;34m[\u001b[0m\u001b[0;34m'일자'\u001b[0m\u001b[0;34m]\u001b[0m\u001b[0;34m,\u001b[0m\u001b[0maxis\u001b[0m\u001b[0;34m=\u001b[0m\u001b[0;36m1\u001b[0m\u001b[0;34m)\u001b[0m\u001b[0;34m\u001b[0m\u001b[0;34m\u001b[0m\u001b[0m\n\u001b[1;32m      8\u001b[0m             \u001b[0mdf\u001b[0m\u001b[0;34m=\u001b[0m\u001b[0mdf\u001b[0m\u001b[0;34m.\u001b[0m\u001b[0mdrop\u001b[0m\u001b[0;34m(\u001b[0m\u001b[0;34m[\u001b[0m\u001b[0;34m'Unnamed: 26'\u001b[0m\u001b[0;34m]\u001b[0m\u001b[0;34m,\u001b[0m\u001b[0maxis\u001b[0m\u001b[0;34m=\u001b[0m\u001b[0;36m1\u001b[0m\u001b[0;34m)\u001b[0m\u001b[0;34m\u001b[0m\u001b[0;34m\u001b[0m\u001b[0m\n",
      "\u001b[0;32m/opt/anaconda3/lib/python3.8/site-packages/pandas/util/_decorators.py\u001b[0m in \u001b[0;36mwrapper\u001b[0;34m(*args, **kwargs)\u001b[0m\n\u001b[1;32m    297\u001b[0m                 )\n\u001b[1;32m    298\u001b[0m                 \u001b[0mwarnings\u001b[0m\u001b[0;34m.\u001b[0m\u001b[0mwarn\u001b[0m\u001b[0;34m(\u001b[0m\u001b[0mmsg\u001b[0m\u001b[0;34m,\u001b[0m \u001b[0mFutureWarning\u001b[0m\u001b[0;34m,\u001b[0m \u001b[0mstacklevel\u001b[0m\u001b[0;34m=\u001b[0m\u001b[0mstacklevel\u001b[0m\u001b[0;34m)\u001b[0m\u001b[0;34m\u001b[0m\u001b[0;34m\u001b[0m\u001b[0m\n\u001b[0;32m--> 299\u001b[0;31m             \u001b[0;32mreturn\u001b[0m \u001b[0mfunc\u001b[0m\u001b[0;34m(\u001b[0m\u001b[0;34m*\u001b[0m\u001b[0margs\u001b[0m\u001b[0;34m,\u001b[0m \u001b[0;34m**\u001b[0m\u001b[0mkwargs\u001b[0m\u001b[0;34m)\u001b[0m\u001b[0;34m\u001b[0m\u001b[0;34m\u001b[0m\u001b[0m\n\u001b[0m\u001b[1;32m    300\u001b[0m \u001b[0;34m\u001b[0m\u001b[0m\n\u001b[1;32m    301\u001b[0m         \u001b[0;32mreturn\u001b[0m \u001b[0mwrapper\u001b[0m\u001b[0;34m\u001b[0m\u001b[0;34m\u001b[0m\u001b[0m\n",
      "\u001b[0;32m/opt/anaconda3/lib/python3.8/site-packages/pandas/io/excel/_base.py\u001b[0m in \u001b[0;36mread_excel\u001b[0;34m(io, sheet_name, header, names, index_col, usecols, squeeze, dtype, engine, converters, true_values, false_values, skiprows, nrows, na_values, keep_default_na, na_filter, verbose, parse_dates, date_parser, thousands, comment, skipfooter, convert_float, mangle_dupe_cols, storage_options)\u001b[0m\n\u001b[1;32m    334\u001b[0m     \u001b[0;32mif\u001b[0m \u001b[0;32mnot\u001b[0m \u001b[0misinstance\u001b[0m\u001b[0;34m(\u001b[0m\u001b[0mio\u001b[0m\u001b[0;34m,\u001b[0m \u001b[0mExcelFile\u001b[0m\u001b[0;34m)\u001b[0m\u001b[0;34m:\u001b[0m\u001b[0;34m\u001b[0m\u001b[0;34m\u001b[0m\u001b[0m\n\u001b[1;32m    335\u001b[0m         \u001b[0mshould_close\u001b[0m \u001b[0;34m=\u001b[0m \u001b[0;32mTrue\u001b[0m\u001b[0;34m\u001b[0m\u001b[0;34m\u001b[0m\u001b[0m\n\u001b[0;32m--> 336\u001b[0;31m         \u001b[0mio\u001b[0m \u001b[0;34m=\u001b[0m \u001b[0mExcelFile\u001b[0m\u001b[0;34m(\u001b[0m\u001b[0mio\u001b[0m\u001b[0;34m,\u001b[0m \u001b[0mstorage_options\u001b[0m\u001b[0;34m=\u001b[0m\u001b[0mstorage_options\u001b[0m\u001b[0;34m,\u001b[0m \u001b[0mengine\u001b[0m\u001b[0;34m=\u001b[0m\u001b[0mengine\u001b[0m\u001b[0;34m)\u001b[0m\u001b[0;34m\u001b[0m\u001b[0;34m\u001b[0m\u001b[0m\n\u001b[0m\u001b[1;32m    337\u001b[0m     \u001b[0;32melif\u001b[0m \u001b[0mengine\u001b[0m \u001b[0;32mand\u001b[0m \u001b[0mengine\u001b[0m \u001b[0;34m!=\u001b[0m \u001b[0mio\u001b[0m\u001b[0;34m.\u001b[0m\u001b[0mengine\u001b[0m\u001b[0;34m:\u001b[0m\u001b[0;34m\u001b[0m\u001b[0;34m\u001b[0m\u001b[0m\n\u001b[1;32m    338\u001b[0m         raise ValueError(\n",
      "\u001b[0;32m/opt/anaconda3/lib/python3.8/site-packages/pandas/io/excel/_base.py\u001b[0m in \u001b[0;36m__init__\u001b[0;34m(self, path_or_buffer, engine, storage_options)\u001b[0m\n\u001b[1;32m   1069\u001b[0m                 \u001b[0mext\u001b[0m \u001b[0;34m=\u001b[0m \u001b[0;34m\"xls\"\u001b[0m\u001b[0;34m\u001b[0m\u001b[0;34m\u001b[0m\u001b[0m\n\u001b[1;32m   1070\u001b[0m             \u001b[0;32melse\u001b[0m\u001b[0;34m:\u001b[0m\u001b[0;34m\u001b[0m\u001b[0;34m\u001b[0m\u001b[0m\n\u001b[0;32m-> 1071\u001b[0;31m                 ext = inspect_excel_format(\n\u001b[0m\u001b[1;32m   1072\u001b[0m                     \u001b[0mcontent\u001b[0m\u001b[0;34m=\u001b[0m\u001b[0mpath_or_buffer\u001b[0m\u001b[0;34m,\u001b[0m \u001b[0mstorage_options\u001b[0m\u001b[0;34m=\u001b[0m\u001b[0mstorage_options\u001b[0m\u001b[0;34m\u001b[0m\u001b[0;34m\u001b[0m\u001b[0m\n\u001b[1;32m   1073\u001b[0m                 )\n",
      "\u001b[0;32m/opt/anaconda3/lib/python3.8/site-packages/pandas/io/excel/_base.py\u001b[0m in \u001b[0;36minspect_excel_format\u001b[0;34m(path, content, storage_options)\u001b[0m\n\u001b[1;32m    963\u001b[0m             \u001b[0;32mreturn\u001b[0m \u001b[0;34m\"xls\"\u001b[0m\u001b[0;34m\u001b[0m\u001b[0;34m\u001b[0m\u001b[0m\n\u001b[1;32m    964\u001b[0m         \u001b[0;32melif\u001b[0m \u001b[0;32mnot\u001b[0m \u001b[0mpeek\u001b[0m\u001b[0;34m.\u001b[0m\u001b[0mstartswith\u001b[0m\u001b[0;34m(\u001b[0m\u001b[0mZIP_SIGNATURE\u001b[0m\u001b[0;34m)\u001b[0m\u001b[0;34m:\u001b[0m\u001b[0;34m\u001b[0m\u001b[0;34m\u001b[0m\u001b[0m\n\u001b[0;32m--> 965\u001b[0;31m             \u001b[0;32mraise\u001b[0m \u001b[0mValueError\u001b[0m\u001b[0;34m(\u001b[0m\u001b[0;34m\"File is not a recognized excel file\"\u001b[0m\u001b[0;34m)\u001b[0m\u001b[0;34m\u001b[0m\u001b[0;34m\u001b[0m\u001b[0m\n\u001b[0m\u001b[1;32m    966\u001b[0m \u001b[0;34m\u001b[0m\u001b[0m\n\u001b[1;32m    967\u001b[0m         \u001b[0;31m# ZipFile typing is overly-strict\u001b[0m\u001b[0;34m\u001b[0m\u001b[0;34m\u001b[0m\u001b[0;34m\u001b[0m\u001b[0m\n",
      "\u001b[0;31mValueError\u001b[0m: File is not a recognized excel file"
     ]
    }
   ],
   "source": [
    "for _,_, files in os.walk(os.getcwd()):\n",
    "    for file in files:\n",
    "        if \"xlsx\" in file:\n",
    "            filename = file\n",
    "            print(filename)\n",
    "            df = pd.read_excel(filename,sheet_name='계량정보데이터')\n",
    "            df=df.drop(['일자'],axis=1)\n",
    "            df=df.drop(['Unnamed: 26'],axis=1)\n",
    "            df = df.dropna()\n",
    "            df=df.reset_index(drop=True,inplace=False)\n",
    "            df.columns=['날짜','00:00','01:00','02:00','03:00','04:00','05:00','06:00','07:00','08:00','09:00','10:00','11:00','12:00','13:00','14:00','15:00','16:00','17:00','18:00','19:00','20:00','21:00','22:00','23:00']\n",
    "            raw_all=pd.melt(df,id_vars=['날짜'])\n",
    "            raw_all.columns=['DateTime','Hour','kwh']\n",
    "\n",
    "\n",
    "            if raw_all.index.dtype == 'int64':\n",
    "                raw_all.set_index('DateTime', inplace=True)\n",
    "            raw_all=raw_all.reset_index()\n",
    "            dt = raw_all.DateTime.str.slice(0,10)\n",
    "            raw_all.drop('DateTime',axis=1,inplace=True)\n",
    "            raw_all['dt'] = dt\n",
    "\n",
    "\n",
    "            raw_all = raw_all[['dt','Hour','kwh']]\n",
    "            raw_all = raw_all.sort_values(by=['dt','Hour']).reset_index(drop=True)\n",
    "\n",
    "            climate = pd.DataFrame(columns=(\"dt\",\"Hour\",\"ta\",\"ws\",\"wd\",\"hm\",\"pv\",\"td\",\"pa\",\"ps\",\"vs\",\"ts\"))\n",
    "\n",
    "\n",
    "            for dt in raw_all['dt'].unique():\n",
    "                url = furl('http://apis.data.go.kr/1360000/AsosHourlyInfoService/getWthrDataList')\n",
    "                url.args['serviceKey'] = 'xM0E+Y9pYfVPh7W2rCzqvDgzBtmQZcawC3y/ONSyZTWUU6Jw2ttLGbUlq9Sccb6DCZ3g3Ej57Sv0LsQHo8Q1/w=='\n",
    "                url.args['numOfRows'] = '30'\n",
    "                url.args['pageNo'] = '1'\n",
    "                url.args['dataCd'] = 'ASOS'\n",
    "                url.args['dateCd'] = 'HR'\n",
    "                url.args['stnIds'] = '108'\n",
    "                url.args['startDt'] = dt.replace('-','')\n",
    "                url.args['startHh'] = '00'\n",
    "                url.args['endDt'] = dt.replace('-','')\n",
    "                url.args['endHh'] = '23'\n",
    "                rows = get_api(url.url)\n",
    "\n",
    "\n",
    "            df = pd.merge(raw_all, climate, on=['dt','Hour'])\n",
    "            df['month'] = df.dt.str.slice(5,7)\n",
    "            df.drop(columns=[\"ps\",\"vs\"],inplace=True)\n",
    "            csv_file = file[:-4]+\"csv\"\n",
    "            df.to_csv(csv_file,index=False)"
   ]
  },
  {
   "cell_type": "code",
   "execution_count": null,
   "id": "7cab05ad",
   "metadata": {
    "ExecuteTime": {
     "end_time": "2021-11-04T14:53:36.969723Z",
     "start_time": "2021-11-04T14:53:36.955881Z"
    }
   },
   "outputs": [],
   "source": [
    " df.to_csv(file,index=False)"
   ]
  },
  {
   "cell_type": "code",
   "execution_count": null,
   "id": "b0f1ec01",
   "metadata": {
    "ExecuteTime": {
     "end_time": "2021-11-04T14:55:06.601475Z",
     "start_time": "2021-11-04T14:55:06.578645Z"
    }
   },
   "outputs": [],
   "source": [
    "df"
   ]
  },
  {
   "cell_type": "code",
   "execution_count": null,
   "id": "80b9cdda",
   "metadata": {
    "ExecuteTime": {
     "end_time": "2021-11-04T14:56:06.881419Z",
     "start_time": "2021-11-04T14:56:06.873530Z"
    }
   },
   "outputs": [],
   "source": [
    "df.to.csv(1.csv,index=false)"
   ]
  },
  {
   "cell_type": "code",
   "execution_count": null,
   "id": "b42bb311",
   "metadata": {},
   "outputs": [],
   "source": []
  }
 ],
 "metadata": {
  "hide_input": false,
  "kernelspec": {
   "display_name": "Python 3",
   "language": "python",
   "name": "python3"
  },
  "language_info": {
   "codemirror_mode": {
    "name": "ipython",
    "version": 3
   },
   "file_extension": ".py",
   "mimetype": "text/x-python",
   "name": "python",
   "nbconvert_exporter": "python",
   "pygments_lexer": "ipython3",
   "version": "3.8.8"
  },
  "toc": {
   "base_numbering": 1,
   "nav_menu": {},
   "number_sections": true,
   "sideBar": true,
   "skip_h1_title": false,
   "title_cell": "Table of Contents",
   "title_sidebar": "Contents",
   "toc_cell": false,
   "toc_position": {},
   "toc_section_display": true,
   "toc_window_display": false
  },
  "varInspector": {
   "cols": {
    "lenName": 16,
    "lenType": 16,
    "lenVar": 40
   },
   "kernels_config": {
    "python": {
     "delete_cmd_postfix": "",
     "delete_cmd_prefix": "del ",
     "library": "var_list.py",
     "varRefreshCmd": "print(var_dic_list())"
    },
    "r": {
     "delete_cmd_postfix": ") ",
     "delete_cmd_prefix": "rm(",
     "library": "var_list.r",
     "varRefreshCmd": "cat(var_dic_list()) "
    }
   },
   "types_to_exclude": [
    "module",
    "function",
    "builtin_function_or_method",
    "instance",
    "_Feature"
   ],
   "window_display": false
  }
 },
 "nbformat": 4,
 "nbformat_minor": 5
}
