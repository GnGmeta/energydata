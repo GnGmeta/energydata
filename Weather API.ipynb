{
 "cells": [
  {
   "cell_type": "code",
   "execution_count": 2,
   "id": "95e6e657",
   "metadata": {},
   "outputs": [
    {
     "ename": "ModuleNotFoundError",
     "evalue": "No module named 'pyowm'",
     "output_type": "error",
     "traceback": [
      "\u001b[0;31m---------------------------------------------------------------------------\u001b[0m",
      "\u001b[0;31mModuleNotFoundError\u001b[0m                       Traceback (most recent call last)",
      "Input \u001b[0;32mIn [2]\u001b[0m, in \u001b[0;36m<cell line: 1>\u001b[0;34m()\u001b[0m\n\u001b[0;32m----> 1\u001b[0m \u001b[38;5;28;01mimport\u001b[39;00m \u001b[38;5;21;01mpyowm\u001b[39;00m\n\u001b[1;32m      2\u001b[0m owm \u001b[38;5;241m=\u001b[39m pyowm\u001b[38;5;241m.\u001b[39mOWM(\u001b[38;5;124m'\u001b[39m\u001b[38;5;124m9e1b402edadac300a736aaadf21f2e56\u001b[39m\u001b[38;5;124m'\u001b[39m)\n",
      "\u001b[0;31mModuleNotFoundError\u001b[0m: No module named 'pyowm'"
     ]
    }
   ],
   "source": [
    "import pyowm\n",
    "owm = pyowm.OWM('9e1b402edadac300a736aaadf21f2e56') # TODO: Replace <api_key> with your API key"
   ]
  },
  {
   "cell_type": "code",
   "execution_count": null,
   "id": "d2fdab70",
   "metadata": {},
   "outputs": [],
   "source": [
    "la = owm.three_hours_forecast('Los Angeles, US')"
   ]
  },
  {
   "cell_type": "code",
   "execution_count": null,
   "id": "0dc1d976",
   "metadata": {},
   "outputs": [],
   "source": [
    "sf = owm.weather_at_place('Seoul, KR')\n",
    "weather = sf.get_weather()\n",
    "print(weather.get_temperature('fahrenheit')['temp'])"
   ]
  },
  {
   "cell_type": "code",
   "execution_count": null,
   "id": "37f57906",
   "metadata": {},
   "outputs": [],
   "source": [
    "london = owm.three_hours_forecast('London, GB')\n",
    "print(london.will_have_rain())\n",
    "print(london.will_have_fog())"
   ]
  },
  {
   "cell_type": "code",
   "execution_count": 3,
   "id": "1e727fcb",
   "metadata": {},
   "outputs": [],
   "source": [
    "import requests\n",
    "from tkinter import *\n",
    "import math\n",
    "\n",
    "city = \"Busan\"\n",
    "api_key = \"9e1b402edadac300a736aaadf21f2e56&units=metric\"\n",
    "# api_key = \"9e1b402edadac300a736aaadf21f2e56\""
   ]
  },
  {
   "cell_type": "code",
   "execution_count": 2,
   "id": "76a8a70a",
   "metadata": {},
   "outputs": [],
   "source": [
    "url = f\"http://api.openweathermap.org/data/2.5/weather?q={city}&appid={api_key}\"\n",
    "#url = f\"http://api.openweathermap.org/data/2.5/weather?q=%20Busan&appid=9e1b402edadac300a736aaadf21f2e56&units=metric\"\n",
    "response = requests.get(url).json()"
   ]
  },
  {
   "cell_type": "code",
   "execution_count": 3,
   "id": "594cbd58",
   "metadata": {},
   "outputs": [],
   "source": [
    "temp = response['main']['temp']\n",
    "# temp = math.floor((temp * 1) - 273.15)  # Convert to °C\n",
    "lowtemp = response['main']['temp_min']\n",
    "# lowtemp = math.floor((temp * 1) - 273.15)  # Convert to °C\n",
    "hightemp = response['main']['temp_max']\n",
    "# hightemp = math.floor((temp * 1) - 273.15)  # Convert to °C\n",
    "feels_like = response['main']['feels_like']\n",
    "# feels_like = math.floor((feels_like * 1) - 273.15)  # Convert to °C\n",
    "humidity = response['main']['humidity']"
   ]
  },
  {
   "cell_type": "code",
   "execution_count": null,
   "id": "1e3768f8",
   "metadata": {},
   "outputs": [],
   "source": [
    "# feels_like = response['main']['feels_like']\n",
    "# humidity = response['main']['humidity']"
   ]
  },
  {
   "cell_type": "code",
   "execution_count": null,
   "id": "7325dfd9",
   "metadata": {},
   "outputs": [],
   "source": [
    "print(feels_like)"
   ]
  },
  {
   "cell_type": "code",
   "execution_count": null,
   "id": "98b43e0f",
   "metadata": {},
   "outputs": [],
   "source": [
    "def get_weather(api_key, city):\n",
    "    url = f\"http://api.openweathermap.org/data/2.5/weather?q={city}&appid={api_key}\"\n",
    "\n",
    "    response = requests.get(url).json()\n",
    "\n",
    "    temp = response['main']['temp']\n",
    "    temp = math.floor((temp * 1) - 273.15)  # Convert to °C\n",
    "    \n",
    "    lowtemp = response['main']['temp_min']\n",
    "    lowtemp = math.floor((temp * 1) - 273.15)  # Convert to °C\n",
    "    hightemp = response['main']['temp_max']\n",
    "    hightemp = math.floor((temp * 1) - 273.15)  # Convert to °C\n",
    "    feels_like = response['main']['feels_like']\n",
    "    feels_like = math.floor((feels_like * 1) - 273.15)  # Convert to °C\n",
    "\n",
    "    humidity = response['main']['humidity']\n",
    "    \n",
    "    return {\n",
    "        'temp': temp,\n",
    "        'lowtemp':lowtemp,\n",
    "        'hightemp':hightemp,\n",
    "        'feels_like': feels_like,\n",
    "        'humidity': humidity\n",
    "    }"
   ]
  },
  {
   "cell_type": "code",
   "execution_count": null,
   "id": "a72b274b",
   "metadata": {},
   "outputs": [],
   "source": [
    "temp"
   ]
  },
  {
   "cell_type": "code",
   "execution_count": null,
   "id": "b2d2c0b5",
   "metadata": {},
   "outputs": [],
   "source": [
    "url = f\"http://https://https://api.openweathermap.org/data/2.5/onecall?lat=35.1028&lon=129.0403&appid=9e1b402edadac300a736aaadf21f2e56&units=metric\"\n",
    "response = requests.get(url).json()"
   ]
  },
  {
   "cell_type": "code",
   "execution_count": null,
   "id": "116b5563",
   "metadata": {},
   "outputs": [],
   "source": [
    "from datetime import datetime\n",
    "# from dateutil.parser import parse\n",
    "timenow=datetime(milliseconds=999999)\n",
    "print(timenow)"
   ]
  },
  {
   "cell_type": "code",
   "execution_count": null,
   "id": "52f3097c",
   "metadata": {},
   "outputs": [],
   "source": []
  }
 ],
 "metadata": {
  "kernelspec": {
   "display_name": "Python 3 (ipykernel)",
   "language": "python",
   "name": "python3"
  },
  "language_info": {
   "codemirror_mode": {
    "name": "ipython",
    "version": 3
   },
   "file_extension": ".py",
   "mimetype": "text/x-python",
   "name": "python",
   "nbconvert_exporter": "python",
   "pygments_lexer": "ipython3",
   "version": "3.9.12"
  }
 },
 "nbformat": 4,
 "nbformat_minor": 5
}
