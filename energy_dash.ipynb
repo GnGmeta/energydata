{
 "cells": [
  {
   "cell_type": "code",
   "execution_count": null,
   "id": "919c695b",
   "metadata": {
    "ExecuteTime": {
     "end_time": "2021-10-18T23:10:23.770160Z",
     "start_time": "2021-10-18T23:10:20.154713Z"
    }
   },
   "outputs": [],
   "source": [
    "# pip install dash_bootstrap_components"
   ]
  },
  {
   "cell_type": "code",
   "execution_count": 1,
   "id": "b992711e",
   "metadata": {
    "ExecuteTime": {
     "end_time": "2021-10-18T23:10:48.083750Z",
     "start_time": "2021-10-18T23:10:46.645488Z"
    }
   },
   "outputs": [],
   "source": [
    "import numpy as np\n",
    "import pandas as pd\n",
    "import requests, bs4\n",
    "import os\n",
    "import base64\n",
    "import io\n",
    "from datetime import datetime\n",
    "from furl import furl\n",
    "from sklearn.ensemble import RandomForestRegressor\n",
    "from sklearn.linear_model import LinearRegression\n",
    "from sklearn.model_selection import train_test_split\n",
    "from sklearn.preprocessing import OneHotEncoder"
   ]
  },
  {
   "cell_type": "code",
   "execution_count": 2,
   "id": "e6c85645",
   "metadata": {
    "ExecuteTime": {
     "end_time": "2021-10-18T23:10:48.835495Z",
     "start_time": "2021-10-18T23:10:48.466103Z"
    }
   },
   "outputs": [
    {
     "name": "stderr",
     "output_type": "stream",
     "text": [
      "<ipython-input-2-626c6b0820dd>:2: UserWarning: \n",
      "The dash_core_components package is deprecated. Please replace\n",
      "`import dash_core_components as dcc` with `from dash import dcc`\n",
      "  import dash_core_components as dcc\n",
      "<ipython-input-2-626c6b0820dd>:3: UserWarning: \n",
      "The dash_html_components package is deprecated. Please replace\n",
      "`import dash_html_components as html` with `from dash import html`\n",
      "  import dash_html_components as html\n",
      "<ipython-input-2-626c6b0820dd>:5: UserWarning: \n",
      "The dash_table package is deprecated. Please replace\n",
      "`import dash_table` with `from dash import dash_table`\n",
      "\n",
      "Also, if you're using any of the table format helpers (e.g. Group), replace \n",
      "`from dash_table.Format import Group` with \n",
      "`from dash.dash_table.Format import Group`\n",
      "  import dash_table\n"
     ]
    }
   ],
   "source": [
    "import dash\n",
    "import dash_core_components as dcc\n",
    "import dash_html_components as html\n",
    "import dash_bootstrap_components as dbc\n",
    "import dash_table\n",
    "import plotly.express as px\n",
    "import plotly.graph_objects as go\n",
    "from dash.dependencies import Input, Output, State"
   ]
  },
  {
   "cell_type": "code",
   "execution_count": 3,
   "id": "30f6f04d",
   "metadata": {
    "ExecuteTime": {
     "end_time": "2021-10-18T23:11:42.489328Z",
     "start_time": "2021-10-18T23:11:42.484664Z"
    }
   },
   "outputs": [],
   "source": [
    "def get_api(url):\n",
    "    request = requests.get(url=url).text.encode('utf-8')\n",
    "    xmlobj = bs4.BeautifulSoup(request, 'html.parser')\n",
    "    rows = xmlobj.findAll('item')\n",
    "    for i, row in enumerate(rows):\n",
    "        climate.loc[len(climate)] = [\n",
    "          row.tm.string.split(\" \")[0],\n",
    "          row.tm.string.split(\" \")[1],\n",
    "          row.ta.string,\n",
    "          row.ws.string,\n",
    "          row.wd.string,\n",
    "          row.hm.string,\n",
    "          row.pv.string,\n",
    "          row.td.string,\n",
    "          row.pa.string,\n",
    "          row.ps.string,\n",
    "          row.vs.string,\n",
    "          row.ts.string ]\n",
    "    return rows"
   ]
  },
  {
   "cell_type": "code",
   "execution_count": 4,
   "id": "0c84b5cc",
   "metadata": {
    "ExecuteTime": {
     "end_time": "2021-10-18T23:13:21.431373Z",
     "start_time": "2021-10-18T23:13:21.427072Z"
    }
   },
   "outputs": [],
   "source": [
    "def parse_contents(contents, filename, date):\n",
    "    content_type, content_string = contents.split(',')\n",
    "\n",
    "    decoded = base64.b64decode(content_string)\n",
    "    try:\n",
    "        if 'csv' in filename:\n",
    "            # Assume that the user uploaded a CSV file\n",
    "            df = pd.read_csv(\n",
    "                io.StringIO(decoded.decode('utf-8')))\n",
    "            df = df.head(5)\n",
    "        elif 'xls' in filename:\n",
    "            # Assume that the user uploaded an excel file\n",
    "            df = pd.read_excel(io.BytesIO(decoded))\n",
    "            df = df.head(10)\n",
    "        with open(filename,\"wb\") as fp:\n",
    "            fp.write(decoded)\n",
    "    except Exception as e:\n",
    "        print(e)\n",
    "        return html.Div([\n",
    "            'There was an error processing this file.'\n",
    "        ])\n",
    "\n",
    "    return html.Div([\n",
    "        html.H5(filename),\n",
    "        html.H6(datetime.fromtimestamp(date)),\n",
    "\n",
    "        dash_table.DataTable(\n",
    "            data=df.to_dict('records'),\n",
    "            columns=[{'name': i, 'id': i} for i in df.columns],\n",
    "        ),\n",
    "\n",
    "        html.Hr()\n",
    "    ])\n"
   ]
  },
  {
   "cell_type": "code",
   "execution_count": 5,
   "id": "b60ce6da",
   "metadata": {
    "ExecuteTime": {
     "end_time": "2021-10-18T23:13:52.368222Z",
     "start_time": "2021-10-18T23:13:52.365509Z"
    }
   },
   "outputs": [],
   "source": [
    "def train_model_building(x,y):\n",
    "    model = RandomForestRegressor()\n",
    "    model.fit(x,y)\n",
    "    return model.predict(x)\n",
    "\n",
    "def train_model_factory(x,y):\n",
    "    model = RandomForestRegressor()\n",
    "    model.fit(x,y)\n",
    "    return model.predict(x)\n"
   ]
  },
  {
   "cell_type": "code",
   "execution_count": 6,
   "id": "d2f4d62e",
   "metadata": {
    "ExecuteTime": {
     "end_time": "2021-10-18T23:14:17.990810Z",
     "start_time": "2021-10-18T23:14:17.974034Z"
    }
   },
   "outputs": [],
   "source": [
    "external_stylesheets = [\"http://codepen.io/chriddyp/pen/bWLwgP.css\"]\n",
    "app = dash.Dash(__name__,external_stylesheets=external_stylesheets)\n",
    "\n",
    "app.layout = html.Div([\n",
    "    html.H5(\"계측량 예측 시스템\"),\n",
    "    html.Hr(),\n",
    "    html.H6(\"계량정보데이터를 업로드하세요\"),\n",
    "    dcc.Upload(\n",
    "        id='upload-data',\n",
    "        children=html.Div([\n",
    "            '파일을 드래그 하거나 ',\n",
    "            html.A('클릭하여 선택하세요')\n",
    "        ]),\n",
    "        style={\n",
    "            'width': '100%',\n",
    "            'height': '60px',\n",
    "            'lineHeight': '60px',\n",
    "            'borderWidth': '1px',\n",
    "            'borderStyle': 'dashed',\n",
    "            'borderRadius': '5px',\n",
    "            'textAlign': 'center',\n",
    "            'margin': '10px'\n",
    "        },\n",
    "        # Allow multiple files to be uploaded\n",
    "        multiple=True\n",
    "    ),\n",
    "    html.Div(id='output-data-upload'),\n",
    "    dcc.RadioItems(id=\"radio-item\",\n",
    "                  options = [\n",
    "                      {\"label\":\"건물\",\"value\":0},\n",
    "                      {\"label\":\"공장\",\"value\":1}]),\n",
    "    html.Button('분석시작',id='button-id',n_clicks=0),\n",
    "    html.Div(id='output-result')\n",
    "])"
   ]
  },
  {
   "cell_type": "code",
   "execution_count": 9,
   "id": "49908de6",
   "metadata": {
    "ExecuteTime": {
     "end_time": "2021-10-18T23:15:34.567591Z",
     "start_time": "2021-10-18T23:15:34.563314Z"
    }
   },
   "outputs": [
    {
     "ename": "SyntaxError",
     "evalue": "unexpected EOF while parsing (<ipython-input-9-4981ea15796b>, line 16)",
     "output_type": "error",
     "traceback": [
      "\u001b[0;36m  File \u001b[0;32m\"<ipython-input-9-4981ea15796b>\"\u001b[0;36m, line \u001b[0;32m16\u001b[0m\n\u001b[0;31m    )\u001b[0m\n\u001b[0m     ^\u001b[0m\n\u001b[0;31mSyntaxError\u001b[0m\u001b[0;31m:\u001b[0m unexpected EOF while parsing\n"
     ]
    }
   ],
   "source": [
    "@app.callback(Output('output-data-upload', 'children'),\n",
    "              Input('upload-data', 'contents'),\n",
    "              State('upload-data', 'filename'),\n",
    "              State('upload-data', 'last_modified'))\n",
    "def update_output(list_of_contents, list_of_names, list_of_dates):\n",
    "    if list_of_contents is not None:\n",
    "        children = [\n",
    "            parse_contents(c, n, d) for c, n, d in\n",
    "            zip(list_of_contents, list_of_names, list_of_dates)]\n",
    "        return children\n",
    "    \n",
    "@app.callback(Output('output-result','children'),\n",
    "              Input('button-id','n_clicks'),\n",
    "              State('upload-data','filename'),\n",
    "              State('radio-item','value'),\n",
    ")"
   ]
  },
  {
   "cell_type": "code",
   "execution_count": 10,
   "id": "46be0c7b",
   "metadata": {
    "ExecuteTime": {
     "end_time": "2021-10-18T23:17:08.660808Z",
     "start_time": "2021-10-18T23:17:08.651618Z"
    }
   },
   "outputs": [],
   "source": [
    "def update_result(n,filename,radio):\n",
    "    filename = str(filename[0])\n",
    "    if n >= 0 and radio == 0:\n",
    "        df = pd.read_excel(filename,sheet_name='계량정보데이터')\n",
    "        df=df.drop(['일자'],axis=1)\n",
    "        df=df.drop(['Unnamed: 26'],axis=1)\n",
    "        df = df.dropna()\n",
    "        df=df.reset_index(drop=True,inplace=False)\n",
    "        df.columns=['날짜','00:00','01:00','02:00','03:00','04:00','05:00','06:00','07:00','08:00','09:00','10:00','11:00','12:00','13:00','14:00','15:00','16:00','17:00','18:00','19:00','20:00','21:00','22:00','23:00']\n",
    "        raw_all=pd.melt(df,id_vars=['날짜'])\n",
    "        raw_all.columns=['DateTime','Hour','kwh']\n",
    "\n",
    "\n",
    "        if raw_all.index.dtype == 'int64':\n",
    "            raw_all.set_index('DateTime', inplace=True)\n",
    "        raw_all=raw_all.reset_index()\n",
    "        dt = raw_all.DateTime.str.slice(0,10)\n",
    "        raw_all.drop('DateTime',axis=1,inplace=True)\n",
    "        raw_all['dt'] = dt\n",
    "\n",
    "\n",
    "        raw_all = raw_all[['dt','Hour','kwh']]\n",
    "        raw_all = raw_all.sort_values(by=['dt','Hour']).reset_index(drop=True)\n",
    "\n",
    "        climate = pd.DataFrame(columns=(\"dt\",\"Hour\",\"ta\",\"ws\",\"wd\",\"hm\",\"pv\",\"td\",\"pa\",\"ps\",\"vs\",\"ts\"))\n",
    "\n",
    "        def get_api(url):\n",
    "            request = requests.get(url=url).text.encode('utf-8')\n",
    "            xmlobj = bs4.BeautifulSoup(request, 'html.parser')\n",
    "            rows = xmlobj.findAll('item')\n",
    "            for i, row in enumerate(rows):\n",
    "                climate.loc[len(climate)] = [\n",
    "                  row.tm.string.split(\" \")[0],\n",
    "                  row.tm.string.split(\" \")[1],\n",
    "                  row.ta.string,\n",
    "                  row.ws.string,\n",
    "                  row.wd.string,\n",
    "                  row.hm.string,\n",
    "                  row.pv.string,\n",
    "                  row.td.string,\n",
    "                  row.pa.string,\n",
    "                  row.ps.string,\n",
    "                  row.vs.string,\n",
    "                  row.ts.string ]\n",
    "            return rows"
   ]
  },
  {
   "cell_type": "code",
   "execution_count": null,
   "id": "709647ac",
   "metadata": {},
   "outputs": [],
   "source": []
  }
 ],
 "metadata": {
  "hide_input": false,
  "kernelspec": {
   "display_name": "Python 3 (ipykernel)",
   "language": "python",
   "name": "python3"
  },
  "language_info": {
   "codemirror_mode": {
    "name": "ipython",
    "version": 3
   },
   "file_extension": ".py",
   "mimetype": "text/x-python",
   "name": "python",
   "nbconvert_exporter": "python",
   "pygments_lexer": "ipython3",
   "version": "3.9.12"
  },
  "toc": {
   "base_numbering": 1,
   "nav_menu": {},
   "number_sections": true,
   "sideBar": true,
   "skip_h1_title": false,
   "title_cell": "Table of Contents",
   "title_sidebar": "Contents",
   "toc_cell": false,
   "toc_position": {},
   "toc_section_display": true,
   "toc_window_display": false
  },
  "varInspector": {
   "cols": {
    "lenName": 16,
    "lenType": 16,
    "lenVar": 40
   },
   "kernels_config": {
    "python": {
     "delete_cmd_postfix": "",
     "delete_cmd_prefix": "del ",
     "library": "var_list.py",
     "varRefreshCmd": "print(var_dic_list())"
    },
    "r": {
     "delete_cmd_postfix": ") ",
     "delete_cmd_prefix": "rm(",
     "library": "var_list.r",
     "varRefreshCmd": "cat(var_dic_list()) "
    }
   },
   "types_to_exclude": [
    "module",
    "function",
    "builtin_function_or_method",
    "instance",
    "_Feature"
   ],
   "window_display": false
  }
 },
 "nbformat": 4,
 "nbformat_minor": 5
}
